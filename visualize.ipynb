{
 "cells": [
  {
   "cell_type": "markdown",
   "metadata": {},
   "source": [
    "# load images"
   ]
  },
  {
   "cell_type": "code",
   "execution_count": null,
   "metadata": {},
   "outputs": [],
   "source": [
    "import os \n",
    "import shutil\n",
    "import imageio\n",
    "import numpy as np \n",
    "import matplotlib.pyplot as plt\n",
    "import seaborn as sns \n",
    "%matplotlib inline\n",
    "from ipywidgets import interact \n",
    "\n",
    "\n",
    "subj = 2\n",
    "time = 9\n",
    "\n",
    "img = np.load('/Users/wangheehwan/Desktop/simmim_img_seq20_timepatch1_masking0.8.npy')\n",
    "pred = np.load('/Users/wangheehwan/Desktop/simmim_pred_seq20_timepatch1_masking0.8.npy')\n",
    "mask = np.load('/Users/wangheehwan/Desktop/simmim_mask_seq20_timepatch1_masking0.8.npy')\n",
    "\n",
    "img_subj = img[subj]\n",
    "pred_subj = pred[subj]\n",
    "mask_subj = 1 - mask[subj]\n",
    "diff_subj = np.abs(img_subj - pred_subj) \n",
    "masked_diff_subj = mask_subj * diff_subj\n",
    "\n",
    "s_max = img.shape[2]\n",
    "t_max = img.shape[-1]\n",
    "vmin = np.min(diff_subj)\n",
    "vmax = np.max(diff_subj)\n",
    "\n",
    "\n",
    "\n"
   ]
  },
  {
   "cell_type": "markdown",
   "metadata": {},
   "source": [
    "# visualize spatial axis"
   ]
  },
  {
   "cell_type": "code",
   "execution_count": null,
   "metadata": {},
   "outputs": [],
   "source": [
    "def sagittal_view(x,): \n",
    "    plt.figure()\n",
    "    #plt.imshow(img_subj[0,x,:,:,time], cmap='gray')\n",
    "    plt.imshow(pred_subj[0,x,:,:,time], cmap='Reds')\n",
    "    #plt.imshow(diff_subj[0,x,:,:,time], cmap='Reds', vmin=vmin, vmax=vmax)\n",
    "    #plt.imshow(masked_diff_subj[0,x,:,:,time], cmap='Reds', vmin=vmin, vmax=vmax)\n",
    "    plt.colorbar()\n",
    "    plt.show()\n",
    "\n",
    "def coronal_view(x,): \n",
    "    plt.figure()\n",
    "    #plt.imshow(img_subj[0,:,:,x,time], cmap='gray')\n",
    "    plt.imshow(pred_subj[0,:,:,x,time], cmap='Reds')\n",
    "    #plt.imshow(diff_subj[0,:,:,x,time], cmap='Reds', vmin=vmin, vmax=vmax)\n",
    "    #plt.imshow(masked_diff_subj[0,x,:,:,time], cmap='Reds', vmin=vmin, vmax=vmax)\n",
    "    plt.colorbar()\n",
    "    plt.show()\n",
    "\n",
    "def horizontal_view(x,): \n",
    "    plt.figure()\n",
    "    #plt.imshow(img_subj[0,:,x,:,time], cmap='gray')\n",
    "    plt.imshow(pred_subj[0,:,x,:,time], cmap='Reds')\n",
    "    #plt.imshow(diff_subj[0,:,x,:,time], cmap='Reds', vmin=vmin, vmax=vmax)\n",
    "    #plt.imshow(masked_diff_subj[0,x,:,:,time], cmap='Reds', vmin=vmin, vmax=vmax)\n",
    "    plt.colorbar()\n",
    "    plt.show()\n",
    "print(f'Loss: {np.mean(diff_subj)}')\n",
    "\n",
    "interact(sagittal_view, x=(0,s_max-1))\n",
    "interact(coronal_view, x=(0,s_max-1))\n",
    "interact(horizontal_view, x=(0,s_max-1))"
   ]
  },
  {
   "cell_type": "markdown",
   "metadata": {},
   "source": [
    "# visualize temporal axis"
   ]
  },
  {
   "cell_type": "code",
   "execution_count": null,
   "metadata": {},
   "outputs": [],
   "source": [
    "slice_num = 48\n",
    "\n",
    "def temporal_view(x,):\n",
    "    plt.figure()\n",
    "    #plt.imshow(img_subj[0,:,:,slice_num,x], cmap='gray')\n",
    "    plt.imshow(pred_subj[0,:,:,slice_num,x], cmap='Reds')\n",
    "    #plt.imshow(diff_subj[0,:,:,slice_num,x], cmap='Reds', vmin=vmin, vmax=vmax)\n",
    "    #plt.imshow(masked_diff_subj[0,:,:,slice_num,x], cmap='Reds', vmin=vmin, vmax=vmax)\n",
    "    plt.colorbar()\n",
    "    plt.show()\n",
    "\n",
    "interact(temporal_view, x=(0,t_max-1))"
   ]
  },
  {
   "cell_type": "markdown",
   "metadata": {},
   "source": [
    "# visualize temporal dynamics of specific coordinates "
   ]
  },
  {
   "cell_type": "code",
   "execution_count": null,
   "metadata": {},
   "outputs": [],
   "source": [
    "coord_x, coord_y, coord_z = 70, 45, 48\n",
    "\n",
    "labels =  [f'gt (mean={np.mean(img_subj[0,coord_x,coord_y,coord_z,:])})', f'pred (mean={np.mean(pred_subj[0,coord_x,coord_y,coord_z,:])})', f'diff (mean={np.mean(diff_subj[0,coord_x,coord_y,coord_z,:])})']\n",
    "\n",
    "\n",
    "def temporal_view(x,):\n",
    "    plt.figure()\n",
    "    plt.imshow(img_subj[0,:,:,coord_z,x], cmap='gray')\n",
    "    plt.plot([coord_x], [coord_y], 'bo')\n",
    "    #plt.imshow(pred_subj[0,:,:,coord_z,x], cmap='Reds')\n",
    "    #plt.imshow(diff_subj[0,:,:,coord_z,x], cmap='Reds', vmin=vmin, vmax=vmax)\n",
    "    #plt.imshow(masked_diff_subj[0,:,:,coord_z,x], cmap='Reds', vmin=vmin, vmax=vmax)\n",
    "    plt.colorbar()\n",
    "    plt.show()\n",
    "interact(temporal_view, x=(0,t_max-1))\n",
    "\n",
    "plt.close()\n",
    "plt.figure()\n",
    "plt.plot(img_subj[0,coord_x,coord_y,coord_z,:], label=labels[0])\n",
    "plt.plot(pred_subj[0,coord_x,coord_y,coord_z,:], label=labels[1])\n",
    "#plt.plot(diff_subj[0,x,y,z,:], label=labels[2])\n",
    "plt.legend(loc='upper right')\n",
    "plt.show\n"
   ]
  },
  {
   "cell_type": "markdown",
   "metadata": {},
   "source": [
    "# make gif file"
   ]
  },
  {
   "cell_type": "code",
   "execution_count": null,
   "metadata": {},
   "outputs": [],
   "source": [
    "tmp_work_dir = '/Users/wangheehwan/Desktop/tmp_gif'\n",
    "gif_file = '/Users/wangheehwan/Desktop/simmim_pred_seq20_timepatch1_masking0.8.gif'\n",
    "\n",
    "# make temporal working directory\n",
    "if os.path.isdir(tmp_work_dir) is False:\n",
    "    os.mkdir(tmp_work_dir) \n",
    "\n",
    "# stack 2D slices \n",
    "gif_np = [pred_subj[0,:,:,48,x] for x in range(t_max)]\n",
    "\n",
    "# save array as plot png\n",
    "file_names = []\n",
    "for i in range(len(gif_np)): \n",
    "    file_name = os.path.join(tmp_work_dir,f'simmim_pred_seq20_timepatch1_masking0.8_t{i}.png')\n",
    "    file_names.append(file_name)\n",
    "    plt.imshow(pred_subj[0,:,:,48,i], cmap='Reds')\n",
    "    plt.savefig(file_name)\n",
    "    plt.close()\n",
    "\n",
    "# load plot png\n",
    "frames = []\n",
    "for file_name in file_names:\n",
    "    if file_name.endswith(\".png\"):\n",
    "        frames.append(imageio.imread(file_name))\n",
    "\n",
    "# make gif\n",
    "imageio.mimsave(gif_file, frames, format='GIF', duration=1)\n",
    "\n",
    "# remove intermediate files (plot png)\n",
    "for file_name in set(file_names):\n",
    "    os.remove(file_name)\n",
    "\n",
    "# remove temporal working directory\n",
    "if os.path.isdir(tmp_work_dir) is False:\n",
    "    shutil.rmtree(tmp_work_dir)"
   ]
  }
 ],
 "metadata": {
  "language_info": {
   "name": "python"
  },
  "orig_nbformat": 4
 },
 "nbformat": 4,
 "nbformat_minor": 2
}
